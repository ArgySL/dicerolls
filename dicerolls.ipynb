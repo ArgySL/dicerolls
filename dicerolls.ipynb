{
 "cells": [
  {
   "cell_type": "code",
   "execution_count": 1,
   "metadata": {},
   "outputs": [
    {
     "name": "stdout",
     "output_type": "stream",
     "text": [
      "Your roll result is 1\n"
     ]
    }
   ],
   "source": [
    "import random as rnd\n",
    "'''\n",
    "def dice_game():\n",
    "    request = input('Would you like to roll a dice? (y/n)')\n",
    "    if request == \"y\":\n",
    "        result = rnd.randint(1,6)\n",
    "        print(f'Your die roll result is {result}!')\n",
    "        while request== \"y\":\n",
    "            retry = input('Would you like to continue? (y/n)')\n",
    "            while retry == \"y\":\n",
    "                retry = result = rnd.randint(1,6)\n",
    "                print(f'Your reroll result is {retry}!')\n",
    "                retry = input('Would you like to continue? (y/n)')\n",
    "                return result;\n",
    "            print('Come play again next time!!!')\n",
    "            break;\n",
    "        return result;\n",
    "    elif request == \"n\":\n",
    "        print('Come play again next time!')\n",
    "        return request;\n",
    "    else:\n",
    "        print('Please input either a \"y\" or a \"n\"')\n",
    "'''\n",
    "\n"
   ]
  },
  {
   "cell_type": "code",
   "execution_count": 7,
   "metadata": {},
   "outputs": [
    {
     "name": "stdout",
     "output_type": "stream",
     "text": [
      "Thank you for playing!\n"
     ]
    }
   ],
   "source": [
    "def dice_game():\n",
    "    while True:\n",
    "        # Roll the die\n",
    "        result = rnd.randint(1, 6)\n",
    "        print(f'Your roll result is {result}')\n",
    "        if result == 1:\n",
    "            print(\"[-----]\")\n",
    "            print(\"[     ]\")\n",
    "            print(\"[  0  ]\")\n",
    "            print(\"[     ]\")\n",
    "            print(\"[-----]\")\n",
    "        if result == 2:\n",
    "            print(\"[-----]\")\n",
    "            print(\"[ 0   ]\")\n",
    "            print(\"[     ]\")\n",
    "            print(\"[   0 ]\")\n",
    "            print(\"[-----]\")\n",
    "        if result == 3:\n",
    "            print(\"[-----]\")\n",
    "            print(\"[     ]\")\n",
    "            print(\"[0 0 0]\")\n",
    "            print(\"[     ]\")\n",
    "            print(\"[-----]\")\n",
    "        if result == 4:\n",
    "            print(\"[-----]\")\n",
    "            print(\"[0   0]\")\n",
    "            print(\"[     ]\")\n",
    "            print(\"[0   0]\")\n",
    "            print(\"[-----]\")\n",
    "        if result == 5:\n",
    "            print(\"[-----]\")\n",
    "            print(\"[0   0]\")\n",
    "            print(\"[  0  ]\")\n",
    "            print(\"[0   0]\")\n",
    "            print(\"[-----]\")\n",
    "        if result == 6:\n",
    "            print(\"[-----]\")\n",
    "            print(\"[0 0 0]\")\n",
    "            print(\"[     ]\")\n",
    "            print(\"[0 0 0]\")\n",
    "            print(\"[-----]\")\n",
    "        # Ask the user if they want to reroll\n",
    "        reroll = input(\"Do you want to roll again? (y/n): \")\n",
    "        if reroll != \"y\":\n",
    "            break\n",
    "    print(\"Thank you for playing!\")"
   ]
  },
  {
   "cell_type": "code",
   "execution_count": 8,
   "metadata": {},
   "outputs": [
    {
     "name": "stdout",
     "output_type": "stream",
     "text": [
      "Your roll result is 3\n",
      "[-----]\n",
      "[     ]\n",
      "[0 0 0]\n",
      "[     ]\n",
      "[-----]\n",
      "Your roll result is 1\n",
      "[-----]\n",
      "[     ]\n",
      "[  0  ]\n",
      "[     ]\n",
      "[-----]\n",
      "Your roll result is 2\n",
      "[-----]\n",
      "[ 0   ]\n",
      "[     ]\n",
      "[   0 ]\n",
      "[-----]\n",
      "Your roll result is 1\n",
      "[-----]\n",
      "[     ]\n",
      "[  0  ]\n",
      "[     ]\n",
      "[-----]\n",
      "Your roll result is 3\n",
      "[-----]\n",
      "[     ]\n",
      "[0 0 0]\n",
      "[     ]\n",
      "[-----]\n"
     ]
    }
   ],
   "source": [
    "dice_game()"
   ]
  },
  {
   "cell_type": "code",
   "execution_count": null,
   "metadata": {},
   "outputs": [],
   "source": []
  }
 ],
 "metadata": {
  "kernelspec": {
   "display_name": "Python 3",
   "language": "python",
   "name": "python3"
  },
  "language_info": {
   "codemirror_mode": {
    "name": "ipython",
    "version": 3
   },
   "file_extension": ".py",
   "mimetype": "text/x-python",
   "name": "python",
   "nbconvert_exporter": "python",
   "pygments_lexer": "ipython3",
   "version": "3.7.4"
  },
  "orig_nbformat": 4
 },
 "nbformat": 4,
 "nbformat_minor": 2
}
