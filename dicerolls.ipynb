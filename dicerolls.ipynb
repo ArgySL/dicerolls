{
 "cells": [
  {
   "cell_type": "code",
   "execution_count": 11,
   "metadata": {},
   "outputs": [],
   "source": [
    "def dice_game():\n",
    "    import random\n",
    "    while True:\n",
    "        # Using random.randint() to pick a random number\n",
    "        result = random.randint(1, 6)\n",
    "        print(f'Your roll result is: {result}')\n",
    "        # Generating an imitation of visual results via ASCII code\n",
    "        if result == 1:\n",
    "            print(\"[-----]\")\n",
    "            print(\"[     ]\")\n",
    "            print(\"[  0  ]\")\n",
    "            print(\"[     ]\")\n",
    "            print(\"[-----]\")\n",
    "        if result == 2:\n",
    "            print(\"[-----]\")\n",
    "            print(\"[ 0   ]\")\n",
    "            print(\"[     ]\")\n",
    "            print(\"[   0 ]\")\n",
    "            print(\"[-----]\")\n",
    "        if result == 3:\n",
    "            print(\"[-----]\")\n",
    "            print(\"[     ]\")\n",
    "            print(\"[0 0 0]\")\n",
    "            print(\"[     ]\")\n",
    "            print(\"[-----]\")\n",
    "        if result == 4:\n",
    "            print(\"[-----]\")\n",
    "            print(\"[0   0]\")\n",
    "            print(\"[     ]\")\n",
    "            print(\"[0   0]\")\n",
    "            print(\"[-----]\")\n",
    "        if result == 5:\n",
    "            print(\"[-----]\")\n",
    "            print(\"[0   0]\")\n",
    "            print(\"[  0  ]\")\n",
    "            print(\"[0   0]\")\n",
    "            print(\"[-----]\")\n",
    "        if result == 6:\n",
    "            print(\"[-----]\")\n",
    "            print(\"[0 0 0]\")\n",
    "            print(\"[     ]\")\n",
    "            print(\"[0 0 0]\")\n",
    "            print(\"[-----]\")\n",
    "        # Asking the user if they want to reroll\n",
    "        reroll = input(\"Do you want to roll again? (y/n): \")\n",
    "        if reroll != \"y\":\n",
    "            break\n",
    "    print(\"Thank you for playing!\")"
   ]
  },
  {
   "cell_type": "code",
   "execution_count": 12,
   "metadata": {},
   "outputs": [
    {
     "name": "stdout",
     "output_type": "stream",
     "text": [
      "Your roll result is: 6\n",
      "[-----]\n",
      "[0 0 0]\n",
      "[     ]\n",
      "[0 0 0]\n",
      "[-----]\n",
      "Thank you for playing!\n"
     ]
    }
   ],
   "source": [
    "dice_game()"
   ]
  },
  {
   "cell_type": "code",
   "execution_count": null,
   "metadata": {},
   "outputs": [],
   "source": []
  }
 ],
 "metadata": {
  "kernelspec": {
   "display_name": "Python 3",
   "language": "python",
   "name": "python3"
  },
  "language_info": {
   "codemirror_mode": {
    "name": "ipython",
    "version": 3
   },
   "file_extension": ".py",
   "mimetype": "text/x-python",
   "name": "python",
   "nbconvert_exporter": "python",
   "pygments_lexer": "ipython3",
   "version": "3.7.4"
  },
  "orig_nbformat": 4
 },
 "nbformat": 4,
 "nbformat_minor": 2
}
